{
 "cells": [
  {
   "cell_type": "markdown",
   "metadata": {},
   "source": [
    "# Saving Training Pictures With Camera"
   ]
  },
  {
   "cell_type": "markdown",
   "metadata": {},
   "source": [
    "#### Imports"
   ]
  },
  {
   "cell_type": "code",
   "execution_count": null,
   "metadata": {
    "collapsed": true
   },
   "outputs": [],
   "source": [
    "%pylab inline\n",
    "%matplotlib inline\n",
    "\n",
    "import numpy as np\n",
    "import cv2\n",
    "import time\n",
    "import ImageProcessing as ipr\n",
    "import matplotlib.pyplot as plt\n",
    "from PIL import Image\n",
    "from IPython.display import display"
   ]
  },
  {
   "cell_type": "markdown",
   "metadata": {},
   "source": [
    "#### Camera Features"
   ]
  },
  {
   "cell_type": "code",
   "execution_count": null,
   "metadata": {
    "collapsed": true
   },
   "outputs": [],
   "source": [
    "pictures = []\n",
    "\n",
    "cap = cv2.VideoCapture(0)\n",
    "ret = cap.read()\n",
    "loop = 0\n",
    "\n",
    "print('Press \\'q\\' to quit or \\'s\\' to save the current view')\n",
    "\n",
    "while(ret):\n",
    "    # Capture frame-by-frame\n",
    "    #time.sleep(0.3)\n",
    "    \n",
    "    loop = 0\n",
    "    ret, frame = cap.read()\n",
    "    frame = cv2.flip(frame,1)\n",
    "    \n",
    "    #bigGray = cv2.cvtColor(frame, cv2.COLOR_BGR2GRAY)\n",
    "    cutImage, coloredFrame, dimensions = ipr.reduce_image(frame, 195, 135, False)\n",
    "    resizedImage = cv2.resize(cutImage, (45, 65)) \n",
    "    smallGray = cv2.cvtColor(cutImage, cv2.COLOR_BGR2GRAY)\n",
    "    #coloredImage = ipr.color_square(cutImage)\n",
    "    \n",
    "    cv2.imshow('webcam image', coloredFrame)\n",
    "    cv2.imshow('box image', cutImage)\n",
    "    cv2.imshow('resized box', smallGray)\n",
    "    \n",
    "    if cv2.waitKey(1) & 0xFF == ord('q'):\n",
    "        print('Camera Closed')\n",
    "        break\n",
    "    elif cv2.waitKey(1) & 0xFF == ord('s'):\n",
    "        print('Image(s) saved !')\n",
    "        pictures.append(cv2.cvtColor(frame, cv2.COLOR_BGR2GRAY))\n",
    "        pictures.append(cv2.cvtColor(cutImage, cv2.COLOR_BGR2GRAY))\n",
    "        pictures.append(cv2.cvtColor(resizedImage, cv2.COLOR_BGR2GRAY))\n",
    "    \n",
    "\n",
    "# When everything done, release the capture\n",
    "cap.release()\n",
    "cv2.destroyAllWindows()\n",
    "\n",
    "print(str(round(len(pictures)/3)) + ' pictures were correctly saved !')"
   ]
  },
  {
   "cell_type": "markdown",
   "metadata": {},
   "source": [
    "#### Delete A Set  If Needed"
   ]
  },
  {
   "cell_type": "code",
   "execution_count": null,
   "metadata": {
    "collapsed": true
   },
   "outputs": [],
   "source": [
    "#imshow(pictures[2], cmap ='gray')\n",
    "#print(len(pictures))\n",
    "#pictures = np.delete(pictures, 0)\n",
    "#pictures = np.delete(pictures, 0)\n",
    "#pictures = np.delete(pictures, 0)\n",
    "#print(len(pictures))"
   ]
  },
  {
   "cell_type": "markdown",
   "metadata": {},
   "source": [
    "#### Display All The Images Taken By Sets"
   ]
  },
  {
   "cell_type": "code",
   "execution_count": null,
   "metadata": {
    "collapsed": true
   },
   "outputs": [],
   "source": [
    "fig = figure (0, (8, len(pictures)))\n",
    "for i in range(len(pictures)):\n",
    "    subplot(len(pictures)/3, 3, i+1)\n",
    "    if i%3 == 0:\n",
    "        ylabel('Image n°' + str(round(i/3)+1), size='xx-large')\n",
    "        imshow(pictures[i])\n",
    "    if i%3 == 1:\n",
    "        imshow(pictures[i])\n",
    "    if i%3 == 2:\n",
    "        imshow(pictures[i])"
   ]
  },
  {
   "cell_type": "markdown",
   "metadata": {},
   "source": [
    "#### Save All The Images In The Data Depository (sort by extension)"
   ]
  },
  {
   "cell_type": "code",
   "execution_count": null,
   "metadata": {
    "collapsed": true
   },
   "outputs": [],
   "source": [
    "path = 'my data/image_'\n",
    "\n",
    "for i in range(len(pictures)):\n",
    "    im = Image.fromarray(pictures[i])\n",
    "    im.save(path + 'bmp_' + str(i+1) +'.bmp')\n",
    "    \n",
    "for i in range(len(pictures)):\n",
    "    im = Image.fromarray(pictures[i])\n",
    "    im.save(path + 'png_' + str(i+1) +'.png')"
   ]
  }
 ],
 "metadata": {
  "kernelspec": {
   "display_name": "Python 3",
   "language": "python",
   "name": "python3"
  },
  "language_info": {
   "codemirror_mode": {
    "name": "ipython",
    "version": 3
   },
   "file_extension": ".py",
   "mimetype": "text/x-python",
   "name": "python",
   "nbconvert_exporter": "python",
   "pygments_lexer": "ipython3",
   "version": "3.6.3"
  }
 },
 "nbformat": 4,
 "nbformat_minor": 2
}
