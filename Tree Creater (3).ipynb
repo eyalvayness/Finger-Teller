{
 "cells": [
  {
   "cell_type": "markdown",
   "metadata": {},
   "source": [
    "# Tree Creater"
   ]
  },
  {
   "cell_type": "markdown",
   "metadata": {},
   "source": [
    "#### Imports"
   ]
  },
  {
   "cell_type": "code",
   "execution_count": null,
   "metadata": {},
   "outputs": [],
   "source": [
    "%pylab inline\n",
    "%matplotlib inline\n",
    "\n",
    "import numpy as np\n",
    "import cv2\n",
    "import time\n",
    "import TreeData as td\n",
    "import pickle\n",
    "import ImageProcessing as ipr\n",
    "import matplotlib.pyplot as plt\n",
    "from PIL import Image\n",
    "from IPython.display import display\n",
    "from sklearn import tree as decisionTree\n",
    "import BinaryTree as bt\n",
    "from scipy.ndimage.measurements import label\n",
    "from sklearn.externals.six import StringIO\n",
    "from IPython.display import Image\n",
    "import pydot\n",
    "import graphviz as gz"
   ]
  },
  {
   "cell_type": "markdown",
   "metadata": {},
   "source": [
    "#### Load treated data"
   ]
  },
  {
   "cell_type": "code",
   "execution_count": null,
   "metadata": {},
   "outputs": [],
   "source": [
    "pickleFile  = open('my data/' + 'treatedData' + '.pkl', 'rb')\n",
    "labelDict = pickle.load(pickleFile)\n",
    "pickleFile.close()\n",
    "\n",
    "print('Correctly opened ' + str(len(labelDict)) + ' treated training data !')"
   ]
  },
  {
   "cell_type": "markdown",
   "metadata": {},
   "source": [
    "#### Confusion matrices"
   ]
  },
  {
   "cell_type": "code",
   "execution_count": null,
   "metadata": {},
   "outputs": [],
   "source": [
    "confusionAll = np.zeros((2, 2), dtype='int')\n",
    "emptyPrediction = np.zeros((len(labelDict[0]['actual']),\\\n",
    "                            len(labelDict[0]['actual'][0])), dtype='uint8')\n",
    "\n",
    "for i in range(len(labelDict)):\n",
    "    confusion, stats = td.compute_confusion_matrix(labelDict[i]['actual'],\\\n",
    "                                                   emptyPrediction)\n",
    "    confusionAll += confusion\n",
    "    labelDict[i]['matrix'] = confusion\n",
    "    labelDict[i]['stats'] = stats\n",
    "    print('Image n°' + str(i+1) + ' (' + str(labelDict[i]['fingerPoints'])\\\n",
    "          + ' finger points):\\n' + str(labelDict[i]['matrix'])\\\n",
    "          + '\\n' + str(labelDict[i]['stats']) + '\\n')\n",
    "print('All Images: \\n' + str(confusionAll) + '\\n'\\\n",
    "      + str(td.compute_stats(confusionAll)))"
   ]
  },
  {
   "cell_type": "markdown",
   "metadata": {},
   "source": [
    "#### Create test and training sets"
   ]
  },
  {
   "cell_type": "code",
   "execution_count": null,
   "metadata": {},
   "outputs": [],
   "source": [
    "trainingExampleIndices = [0, 1, 2, 8]\n",
    "testExampleIndices = [3, 4, 5, 6, 7]\n",
    "trainingDict = [labelDict[index]for index in trainingExampleIndices]\n",
    "testDict = [labelDict[index]for index in testExampleIndices]\n",
    "\n",
    "print('Successfuly listed ' + str(len(trainingDict)) + ' training images !\\nAnd ' + \\\n",
    "      str(len(testDict)) + ' test images !')"
   ]
  },
  {
   "cell_type": "code",
   "execution_count": null,
   "metadata": {},
   "outputs": [],
   "source": [
    "trainX, trainY = bt.extractFromDictionnary(trainingDict)\n",
    "testX, testY = bt.extractFromDictionnary(testDict)\n",
    "\n",
    "print('The Test and Training datas were correctly exctracted')"
   ]
  },
  {
   "cell_type": "markdown",
   "metadata": {},
   "source": [
    "#### Create binary tree"
   ]
  },
  {
   "cell_type": "code",
   "execution_count": null,
   "metadata": {},
   "outputs": [],
   "source": [
    "tree = bt.Tree('4 pix rule')\n",
    "tree.fit(trainX, trainY, 4)\n",
    "\n",
    "print('Successfuly created tree \\'' + tree.name + '\\' !')"
   ]
  },
  {
   "cell_type": "markdown",
   "metadata": {},
   "source": [
    "#### Visualize optimal rules"
   ]
  },
  {
   "cell_type": "code",
   "execution_count": null,
   "metadata": {},
   "outputs": [],
   "source": [
    "visualRules = tree.show()\n",
    "if(visualRules != False):\n",
    "    length = len(visualRules)\n",
    "    fig = figure(0, (5*length,5*length))\n",
    "    if (isinstance(tree.optimalRules[0], str) == False):\n",
    "        for index in range(length):\n",
    "            subplot(1, length, index+1)\n",
    "            title(visualRules[index][1])\n",
    "            imshow(visualRules[index][0], cmap = 'seismic')"
   ]
  },
  {
   "cell_type": "code",
   "execution_count": null,
   "metadata": {
    "collapsed": true
   },
   "outputs": [],
   "source": [
    "#yHat = tree.predictFromOutsiderRules(testX, tree.endNodes[4].rule[0])\n",
    "#\n",
    "#cm, stats = td.compute_confusion_matrix(testY, yHat)\n",
    "#print(str(len(testY)) + ' pixels were evaluated !')\n",
    "#print(cm)\n",
    "#print(stats)"
   ]
  },
  {
   "cell_type": "markdown",
   "metadata": {},
   "source": [
    "#### Confusion matrix"
   ]
  },
  {
   "cell_type": "code",
   "execution_count": null,
   "metadata": {
    "scrolled": true
   },
   "outputs": [],
   "source": [
    "yHat = tree.predictFromOptimalRules(testX)\n",
    "\n",
    "cm, stats = td.compute_confusion_matrix(testY, yHat)\n",
    "print(str(len(testY)) + ' pixels were evaluated !')\n",
    "print(cm)\n",
    "print(stats)"
   ]
  },
  {
   "cell_type": "markdown",
   "metadata": {},
   "source": [
    "#### Save text trees to visualization"
   ]
  },
  {
   "cell_type": "code",
   "execution_count": null,
   "metadata": {
    "collapsed": true
   },
   "outputs": [],
   "source": [
    "#for depth in range(1, 6):\n",
    "#   clf = decisionTree.DecisionTreeClassifier(criterion='entropy', max_depth = depth)\n",
    "#   clf = clf.fit(trainX, trainY)\n",
    "#    yHatTraining = clf.predict(trainX)\n",
    "#    yHatTest = clf.predict(testX)\n",
    "#    ------------------------------#\n",
    "#   with open(\"my data/finger_classifier_\" + str(depth) + \".txt\", \"w\") as f:\n",
    "#       f = decisionTree.export_graphviz(clf, out_file=f)\n",
    "#------------------------------#\n",
    "#cm, stats = td.compute_confusion_matrix(testY, yHatTest)\n",
    "#print(str(len(testY)) + ' pixels were evaluated !')\n",
    "#print(cm)\n",
    "#print(stats)"
   ]
  },
  {
   "cell_type": "markdown",
   "metadata": {},
   "source": [
    "#### Visualize the matches"
   ]
  },
  {
   "cell_type": "code",
   "execution_count": null,
   "metadata": {},
   "outputs": [],
   "source": [
    "fig = figure(0, (30, 15))\n",
    "column = 5\n",
    "\n",
    "for i in range(9):\n",
    "    labelDict[i]['matches'] = ipr.show_matches(tree.optimalRules, labelDict[i])\n",
    "    subplot(2, column, i+1)\n",
    "    title('Image n° ' + str(i+1), size='xx-large')\n",
    "    imshow(labelDict[i]['matches'])"
   ]
  },
  {
   "cell_type": "code",
   "execution_count": null,
   "metadata": {
    "scrolled": false
   },
   "outputs": [],
   "source": [
    "fig = figure(0, (25, 15))\n",
    "count = 0\n",
    "for image in testDict:\n",
    "    image['predicted'] = yHat[2109*count:2109*(count+1)].reshape(57, 37)\n",
    "    image['numFingers'] = ipr.countFingers(image['predicted'], 25)\n",
    "    subplot(3, len(testDict), count+1)\n",
    "    imshow(image['actual'])\n",
    "    subplot(3, len(testDict), count+1+len(testDict))\n",
    "    title(str(image['numFingers']) + ' fingers', size='xx-large')\n",
    "    imshow(image['predicted'])\n",
    "    subplot(3, len(testDict), count+1+(2*len(testDict)))\n",
    "    imshow(image['matches'])\n",
    "    count += 1"
   ]
  },
  {
   "cell_type": "markdown",
   "metadata": {},
   "source": [
    "#### Dump optimal rules"
   ]
  },
  {
   "cell_type": "code",
   "execution_count": null,
   "metadata": {},
   "outputs": [],
   "source": [
    "#name = input('File name : ')\n",
    "#\n",
    "#dumpingRules = []\n",
    "#for rule in tree.optimalRules:\n",
    "#    dumpingRules.append(rule[1:])\n",
    "#\n",
    "#pickleFile = open('my data/'+ name + '.pkl', 'wb')\n",
    "#pickle.dump(dumpingRules, pickleFile, pickle.HIGHEST_PROTOCOL)\n",
    "#pickleFile.close()"
   ]
  },
  {
   "cell_type": "code",
   "execution_count": null,
   "metadata": {
    "collapsed": true
   },
   "outputs": [],
   "source": []
  }
 ],
 "metadata": {
  "kernelspec": {
   "display_name": "Python 3",
   "language": "python",
   "name": "python3"
  },
  "language_info": {
   "codemirror_mode": {
    "name": "ipython",
    "version": 3
   },
   "file_extension": ".py",
   "mimetype": "text/x-python",
   "name": "python",
   "nbconvert_exporter": "python",
   "pygments_lexer": "ipython3",
   "version": "3.6.3"
  }
 },
 "nbformat": 4,
 "nbformat_minor": 2
}
