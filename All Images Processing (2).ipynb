{
 "cells": [
  {
   "cell_type": "markdown",
   "metadata": {},
   "source": [
    "# Process All Images"
   ]
  },
  {
   "cell_type": "markdown",
   "metadata": {},
   "source": [
    "#### Imports"
   ]
  },
  {
   "cell_type": "code",
   "execution_count": null,
   "metadata": {},
   "outputs": [],
   "source": [
    "%pylab inline\n",
    "%matplotlib inline\n",
    "\n",
    "import numpy as np\n",
    "import cv2\n",
    "import time\n",
    "import pickle\n",
    "import ImageProcessing as ipr\n",
    "import matplotlib.pyplot as plt\n",
    "from PIL import Image\n",
    "from IPython.display import display"
   ]
  },
  {
   "cell_type": "markdown",
   "metadata": {},
   "source": [
    "#### Load the images"
   ]
  },
  {
   "cell_type": "code",
   "execution_count": null,
   "metadata": {},
   "outputs": [],
   "source": [
    "allData = []\n",
    "\n",
    "#numPictures = input('number of pictures taken ')*3\n",
    "numPictures = 12*3\n",
    "\n",
    "\n",
    "for i in range(36):\n",
    "    trainingFileName = 'my data/png data/image_png_' + str(i+1) + '.png'\n",
    "    trainingPngFile = imread(trainingFileName)\n",
    "    trainingFile = trainingPngFile\n",
    "    allData.append(trainingFile)\n",
    "    \n",
    "allImages = ipr.from_float_to_uint8(allData)    \n",
    "    \n",
    "print ('Succesfully loaded ' + str(len(allImages)) + ' images!')"
   ]
  },
  {
   "cell_type": "markdown",
   "metadata": {},
   "source": [
    "##### Display all the images"
   ]
  },
  {
   "cell_type": "code",
   "execution_count": null,
   "metadata": {
    "scrolled": false
   },
   "outputs": [],
   "source": [
    "limit = 115\n",
    "fig = figure (0, (8, len(allImages)))\n",
    "\n",
    "for i in range(len(allImages)):\n",
    "    subplot(len(allImages)/3, 3, i+1)\n",
    "    if i%3 == 0:\n",
    "        ylabel('Image n°' + str(round(i/3)+1), size='xx-large')\n",
    "        imshow(allImages[i])\n",
    "    if i%3 == 1:\n",
    "        imshow(allImages[i], cmap='gray')\n",
    "    if i%3 == 2:\n",
    "        imshow(allImages[i]>limit, cmap='gray')"
   ]
  },
  {
   "cell_type": "markdown",
   "metadata": {},
   "source": [
    "#### Keep only wanted images"
   ]
  },
  {
   "cell_type": "code",
   "execution_count": null,
   "metadata": {},
   "outputs": [],
   "source": [
    "trainingImages = []\n",
    "\n",
    "for i in range(15):\n",
    "    trainingImages.append(allImages[i])\n",
    "for i in range(18, 21):\n",
    "    trainingImages.append(allImages[i])\n",
    "for i in range(24, 30):\n",
    "    trainingImages.append(allImages[i])\n",
    "for i in range(33, 36):\n",
    "    trainingImages.append(allImages[i])\n",
    "\n",
    "print ('Succesfully loaded ' + str(round(len(trainingImages)/3))\\\n",
    "       + ' triaining images!')"
   ]
  },
  {
   "cell_type": "markdown",
   "metadata": {},
   "source": [
    "#### Display final set"
   ]
  },
  {
   "cell_type": "code",
   "execution_count": null,
   "metadata": {},
   "outputs": [],
   "source": [
    "fig = figure (0, (8, len(trainingImages)))\n",
    "\n",
    "for i in range(len(trainingImages)):\n",
    "    subplot(len(trainingImages)/3, 3, i+1)\n",
    "    if i%3 == 0:\n",
    "        ylabel('Image n°' + str(round(i/3)+1), size='xx-large')\n",
    "        imshow(trainingImages[i])\n",
    "    if i%3 == 1:\n",
    "        imshow(trainingImages[i], cmap='gray')\n",
    "    if i%3 == 2:\n",
    "        imshow(trainingImages[i]>limit, cmap='gray')"
   ]
  },
  {
   "cell_type": "markdown",
   "metadata": {},
   "source": [
    "#### Create and display binary and black & white images"
   ]
  },
  {
   "cell_type": "code",
   "execution_count": null,
   "metadata": {},
   "outputs": [],
   "source": [
    "boolImages = []\n",
    "bnImages = []\n",
    "\n",
    "for i in range(len(trainingImages)):\n",
    "    if i%3 == 2:\n",
    "        boolImages.append(trainingImages[i]>limit)\n",
    "\n",
    "for i in range(len(boolImages)):\n",
    "    image = np.zeros((len(boolImages[i]), len(boolImages[i][0]), 3), dtype='uint8')\n",
    "    for x in range(len(boolImages[i])):\n",
    "        for y in range(len(boolImages[i][x])):\n",
    "            if boolImages[i][x, y] == True:\n",
    "                image[x, y] = [255, 255, 255]\n",
    "            elif boolImages[i][x, y] == False:\n",
    "                image[x, y] = [0, 0, 0]\n",
    "    bnImages.append(image)\n",
    "    \n",
    "print('Successfuly created '+ str(len(boolImages)) + ' images !')"
   ]
  },
  {
   "cell_type": "code",
   "execution_count": null,
   "metadata": {},
   "outputs": [],
   "source": [
    "fig = figure(0, (15, 4))\n",
    "for i in range(len(boolImages)):\n",
    "    subplot(2, len(boolImages), i+1)\n",
    "    title('Image n°'+ str(i+1))\n",
    "    axis('off')\n",
    "    imshow(boolImages[i])\n",
    "    subplot(2, len(boolImages), i+1+len(boolImages))\n",
    "    axis('off')\n",
    "    imshow(bnImages[i])"
   ]
  },
  {
   "cell_type": "markdown",
   "metadata": {},
   "source": [
    "#### Save black & white images to labelize"
   ]
  },
  {
   "cell_type": "code",
   "execution_count": null,
   "metadata": {
    "collapsed": true
   },
   "outputs": [],
   "source": [
    "#TO SAVE GREY SCALE PICTURES IN ORDER TO CREATE LABELIZED IMAGES\n",
    "#\n",
    "#for i in range(len(bnImages)):\n",
    "#    im = Image.fromarray(bnImages[i])\n",
    "#    im.save('my data/png data/training_label_' + str(i+1) +'.png')"
   ]
  },
  {
   "cell_type": "markdown",
   "metadata": {},
   "source": [
    "#### Load and display labelized images"
   ]
  },
  {
   "cell_type": "code",
   "execution_count": null,
   "metadata": {},
   "outputs": [],
   "source": [
    "floatLabel = []\n",
    "for i in range(9):\n",
    "    trainingFileName = 'my data/png data/training_label_' + str(i+1) +'.png'\n",
    "    trainingPngFile = imread(trainingFileName)\n",
    "    trainingFile = trainingPngFile\n",
    "    floatLabel.append(trainingFile)\n",
    "    \n",
    "labelImages = ipr.from_float_to_uint8(floatLabel)\n",
    "\n",
    "print ('Succesfully loaded ' + str(len(labelImages)) + ' labelized images!')"
   ]
  },
  {
   "cell_type": "code",
   "execution_count": null,
   "metadata": {},
   "outputs": [],
   "source": [
    "fig = figure(0, (20, 10))\n",
    "\n",
    "rows = 3\n",
    "cols = len(labelImages)\n",
    "\n",
    "for i in range(cols):\n",
    "    subplot(rows, cols, i+1)\n",
    "    title('Image n°' + str(i+1))\n",
    "    imshow(trainingImages[(i*3+2)], cmap='gray')\n",
    "    subplot(rows, cols, i+1+cols)\n",
    "    imshow(bnImages[i], cmap='gray')\n",
    "    subplot(rows, cols, i+1+cols*2)\n",
    "    imshow(labelImages[i], cmap='gray')"
   ]
  },
  {
   "cell_type": "markdown",
   "metadata": {},
   "source": [
    "#### Create and display a list of directories"
   ]
  },
  {
   "cell_type": "code",
   "execution_count": null,
   "metadata": {},
   "outputs": [],
   "source": [
    "finalTrainingDict = []\n",
    "\n",
    "for i in range(len(trainingImages)):\n",
    "    if i%3 == 0:\n",
    "        image = {}\n",
    "        image['image'] = trainingImages[i]\n",
    "        image['cropped'] = trainingImages[i+1]\n",
    "        image['resized'] = trainingImages[i+2]\n",
    "        image['bool'] = boolImages[round(i/3)]\n",
    "        image['label'] = labelImages[round(i/3)]\n",
    "        image['blacknwhite'] = bnImages[round(i/3)]\n",
    "        finalTrainingDict.append(image)\n",
    "\n",
    "print('Dictionary successfuly completed with ' + \\\n",
    "      str(len(finalTrainingDict))+ ' images !')"
   ]
  },
  {
   "cell_type": "code",
   "execution_count": null,
   "metadata": {},
   "outputs": [],
   "source": [
    "fig = figure(0, (20, 36))\n",
    "\n",
    "cols = len(finalTrainingDict[0].keys())\n",
    "rows = len(labelImages)\n",
    "\n",
    "for i in range(rows):\n",
    "    subplot(rows, cols, i*cols+1)\n",
    "    title('Image n°' + str(i+1))\n",
    "    imshow(finalTrainingDict[i]['image'], cmap='gray')\n",
    "    subplot(rows, cols, i*cols+2)\n",
    "    imshow(finalTrainingDict[i]['cropped'], cmap='gray')\n",
    "    subplot(rows, cols, i*cols+3)\n",
    "    imshow(finalTrainingDict[i]['resized'], cmap='gray')\n",
    "    subplot(rows, cols, i*cols+4)\n",
    "    imshow(finalTrainingDict[i]['blacknwhite'], cmap='gray')\n",
    "    subplot(rows, cols, i*cols+5)\n",
    "    imshow(finalTrainingDict[i]['bool'], cmap='gray')\n",
    "    subplot(rows, cols, i*cols+6)\n",
    "    imshow(finalTrainingDict[i]['label'], cmap='gray')"
   ]
  },
  {
   "cell_type": "markdown",
   "metadata": {},
   "source": [
    "#### Create binaries libelized images"
   ]
  },
  {
   "cell_type": "code",
   "execution_count": null,
   "metadata": {
    "scrolled": true
   },
   "outputs": [],
   "source": [
    "dist = 4\n",
    "boxStart = dist\n",
    "\n",
    "for i in range(len(finalTrainingDict)):\n",
    "    boxXEnd = len(finalTrainingDict[i]['label']) - boxStart\n",
    "    boxYEnd = len(finalTrainingDict[i]['label'][0]) - boxStart\n",
    "    #print(boxStart, boxXEnd, boxYEnd)\n",
    "    \n",
    "    actual = np.full((boxXEnd - boxStart, boxYEnd - boxStart), False, dtype='bool')\n",
    "    #predicted = np.zeros((boxXEnd - boxStart, boxYEnd - boxStart, 3), dtype='uint8')\n",
    "    for x in range(boxStart, boxXEnd):\n",
    "        for y in range(boxStart, boxYEnd):\n",
    "            rValue = finalTrainingDict[i]['label'][x, y][0]\n",
    "            gValue = finalTrainingDict[i]['label'][x, y][1]\n",
    "            bValue = finalTrainingDict[i]['label'][x, y][2]\n",
    "            rgbValue = [rValue, gValue, bValue]\n",
    "            if rgbValue == [0, 0, 255]:\n",
    "                actual[x - boxStart, y - boxStart] = True\n",
    "                \n",
    "    finalTrainingDict[i]['predicted'] = \\\n",
    "    np.zeros((boxXEnd - boxStart, boxYEnd - boxStart, 3), dtype='uint8')\n",
    "    finalTrainingDict[i]['actual'] = actual\n",
    "    finalTrainingDict[i]['fingerPoints'] = sum(actual == True)\n",
    "\n",
    "print(str(i+1) + ' images were correctly labelized')"
   ]
  },
  {
   "cell_type": "code",
   "execution_count": null,
   "metadata": {},
   "outputs": [],
   "source": [
    "fig = figure(0, (15, 4))\n",
    "for i in range(len(finalTrainingDict)):\n",
    "    subplot(2, len(finalTrainingDict), i+1)\n",
    "    \n",
    "    lengthX = len(finalTrainingDict[i]['label'])\n",
    "    lengthY = len(finalTrainingDict[i]['label'][0])\n",
    "\n",
    "    imshow(finalTrainingDict[i]['label'][4: lengthX - 4,4: lengthY - 4], cmap='gray')\n",
    "    subplot(2, len(finalTrainingDict), i+1+len(finalTrainingDict))\n",
    "    imshow(finalTrainingDict[i]['actual'], cmap='gray')"
   ]
  },
  {
   "cell_type": "markdown",
   "metadata": {},
   "source": [
    "#### Create all convolutions"
   ]
  },
  {
   "cell_type": "code",
   "execution_count": null,
   "metadata": {},
   "outputs": [],
   "source": [
    "for index in range(len(finalTrainingDict)):\n",
    "    boxXMax = len(finalTrainingDict[index]['bool']) - 4\n",
    "    boxYMax = len(finalTrainingDict[index]['bool'][0]) - 4\n",
    "    allBoxs = []\n",
    "    for i in range(4, boxXMax):\n",
    "        for j in range(4, boxYMax):\n",
    "            box = finalTrainingDict[index]['bool'][i - 4:i + 5, j - 4:j + 5]\n",
    "            allBoxs.append(box)\n",
    "    finalTrainingDict[index]['boxs'] = allBoxs\n",
    "        \n",
    "print(str(len(finalTrainingDict[0]['boxs'])*len(finalTrainingDict)) +\\\n",
    "      ' boxes were created from '+ \\\n",
    "          str(len(finalTrainingDict))+' training !')"
   ]
  },
  {
   "cell_type": "markdown",
   "metadata": {},
   "source": [
    "#### Display convolution examples"
   ]
  },
  {
   "cell_type": "code",
   "execution_count": null,
   "metadata": {
    "scrolled": true
   },
   "outputs": [],
   "source": [
    "fig = figure(0, (20, 10))\n",
    "for i in range(len(finalTrainingDict)):\n",
    "    subplot(1, len(finalTrainingDict), i+1)\n",
    "    imshow(finalTrainingDict[i]['boxs'][419], cmap='gray')"
   ]
  },
  {
   "cell_type": "markdown",
   "metadata": {},
   "source": [
    "#### Dump the treated data"
   ]
  },
  {
   "cell_type": "code",
   "execution_count": null,
   "metadata": {
    "collapsed": true
   },
   "outputs": [],
   "source": [
    "#pickleFile = open('my data/'+ 'treatedData' + '.pkl', 'wb')\n",
    "#pickle.dump(finalTrainingDict, pickleFile, pickle.HIGHEST_PROTOCOL)\n",
    "#pickleFile.close()"
   ]
  }
 ],
 "metadata": {
  "kernelspec": {
   "display_name": "Python 3",
   "language": "python",
   "name": "python3"
  },
  "language_info": {
   "codemirror_mode": {
    "name": "ipython",
    "version": 3
   },
   "file_extension": ".py",
   "mimetype": "text/x-python",
   "name": "python",
   "nbconvert_exporter": "python",
   "pygments_lexer": "ipython3",
   "version": "3.6.3"
  }
 },
 "nbformat": 4,
 "nbformat_minor": 2
}
