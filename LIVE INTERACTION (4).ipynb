{
 "cells": [
  {
   "cell_type": "code",
   "execution_count": null,
   "metadata": {},
   "outputs": [],
   "source": [
    "%pylab inline\n",
    "%matplotlib inline\n",
    "\n",
    "import numpy as np\n",
    "import cv2\n",
    "import time\n",
    "import TreeData as td\n",
    "import pickle\n",
    "import ImageProcessing as ipr\n",
    "import matplotlib.pyplot as plt\n",
    "from PIL import Image\n",
    "from IPython.display import display\n",
    "from sklearn import tree\n",
    "import BinaryTree as bt\n",
    "from sklearn.externals.six import StringIO\n",
    "from IPython.display import Image\n",
    "import pydot\n",
    "import graphviz as gz"
   ]
  },
  {
   "cell_type": "code",
   "execution_count": null,
   "metadata": {},
   "outputs": [],
   "source": [
    "pickleFile  = open('my data/' + 'rules 3 pixels' + '.pkl', 'rb')\n",
    "optiRules = pickle.load(pickleFile)\n",
    "pickleFile.close()\n",
    "\n",
    "baseRule = lambda x: (x.any() == x.any())\n",
    "\n",
    "fig = figure(0, (5 * len(optiRules), 10 * len(optiRules)))\n",
    "for i in range(len(optiRules)):\n",
    "    indices = optiRules[i][0]\n",
    "    rule = bt.createRuleFromIndices(indices, baseRule)\n",
    "    optiRules[i].insert(0, rule)\n",
    "    subplot(1, len(optiRules), i+1)\n",
    "    box = bt.visualiseRule(indices)\n",
    "    title(optiRules[i][1])\n",
    "    imshow(box, cmap='seismic')\n",
    "\n",
    "print('Correctly opened ' + str(len(optiRules)) + ' optimal rule(s) from a tree !')"
   ]
  },
  {
   "cell_type": "code",
   "execution_count": null,
   "metadata": {},
   "outputs": [],
   "source": [
    "cap = cv2.VideoCapture(0)\n",
    "ret = cap.read()\n",
    "\n",
    "print('Press \\'q\\' to quit the camera')\n",
    "\n",
    "while(ret):\n",
    "    #Capture frame-by-frame\n",
    "    \n",
    "    ret, frame = cap.read()\n",
    "    frame = cv2.flip(frame,1)\n",
    "    \n",
    "    cutImage, coloredFrame, dimensions = ipr.reduce_image(frame, 195, 135, True)\n",
    "    resizedImage = cv2.resize(cutImage, (45, 65)) \n",
    "    smallGray = cv2.cvtColor(resizedImage, cv2.COLOR_BGR2GRAY)\n",
    "    \n",
    "    matches, num = ipr.live_matches(smallGray, resizedImage, 110,\\\n",
    "                                    optiRules, [0, 0, 150])\n",
    "        \n",
    "    bigMatches = cv2.resize(matches, (135, 195))\n",
    "    bigGray = cv2.resize(smallGray, (135, 195))\n",
    "    #coloredImage = ipr.color_square(cutImage)\n",
    "    \n",
    "    insertedFrame = ipr.insert_image(coloredFrame.copy(), bigMatches, dimensions)\n",
    "    \n",
    "    cv2.putText(insertedFrame, str(num) + ' fingers', (15, 50),\\\n",
    "                cv2.FONT_HERSHEY_SIMPLEX, 1.5, (255, 255, 255), lineType=cv2.LINE_AA) \n",
    "    \n",
    "    cv2.imshow('webcam image', insertedFrame)\n",
    "    #cv2.imshow('matches', bigMatches)\n",
    "    #cv2.imshow('gray scale box', bigGray)\n",
    "    \n",
    "    if cv2.waitKey(1) & 0xFF == ord('q'):\n",
    "        print('Camera Closed')\n",
    "        break    \n",
    "\n",
    "# When everything is done, release the capture\n",
    "cap.release()\n",
    "cv2.destroyAllWindows()"
   ]
  },
  {
   "cell_type": "code",
   "execution_count": null,
   "metadata": {
    "collapsed": true
   },
   "outputs": [],
   "source": []
  }
 ],
 "metadata": {
  "kernelspec": {
   "display_name": "Python 3",
   "language": "python",
   "name": "python3"
  },
  "language_info": {
   "codemirror_mode": {
    "name": "ipython",
    "version": 3
   },
   "file_extension": ".py",
   "mimetype": "text/x-python",
   "name": "python",
   "nbconvert_exporter": "python",
   "pygments_lexer": "ipython3",
   "version": "3.6.3"
  }
 },
 "nbformat": 4,
 "nbformat_minor": 2
}
